{
 "cells": [
  {
   "cell_type": "code",
   "execution_count": 1,
   "id": "b987305a",
   "metadata": {},
   "outputs": [],
   "source": [
    "import numpy as np"
   ]
  },
  {
   "cell_type": "code",
   "execution_count": 4,
   "id": "1434429d",
   "metadata": {},
   "outputs": [],
   "source": [
    "a = np.random.randn(3, 4, 2)"
   ]
  },
  {
   "cell_type": "code",
   "execution_count": 5,
   "id": "ab96f907",
   "metadata": {},
   "outputs": [
    {
     "data": {
      "text/plain": [
       "array([[[-0.35393969, -0.06410905],\n",
       "        [-0.56236407,  1.00614835],\n",
       "        [ 1.45067497, -0.25718265],\n",
       "        [ 1.08494445,  0.77118786]],\n",
       "\n",
       "       [[ 0.94079066,  0.10611013],\n",
       "        [-0.87643996,  1.41558777],\n",
       "        [ 0.96997995,  0.44355685],\n",
       "        [ 0.14687556, -0.62838062]],\n",
       "\n",
       "       [[ 0.83095887, -0.60597966],\n",
       "        [ 1.52030005, -0.02485432],\n",
       "        [ 0.45022249, -0.50064027],\n",
       "        [-0.01144756, -0.25538348]]])"
      ]
     },
     "execution_count": 5,
     "metadata": {},
     "output_type": "execute_result"
    }
   ],
   "source": [
    "a"
   ]
  },
  {
   "cell_type": "code",
   "execution_count": 9,
   "id": "eb4685d7",
   "metadata": {},
   "outputs": [],
   "source": [
    "b = a.reshape(a.shape[0], -1)"
   ]
  },
  {
   "cell_type": "code",
   "execution_count": 10,
   "id": "99a79c8d",
   "metadata": {},
   "outputs": [
    {
     "data": {
      "text/plain": [
       "(3, 4, 2)"
      ]
     },
     "execution_count": 10,
     "metadata": {},
     "output_type": "execute_result"
    }
   ],
   "source": [
    "a.shape"
   ]
  },
  {
   "cell_type": "code",
   "execution_count": 11,
   "id": "1a462091",
   "metadata": {},
   "outputs": [
    {
     "data": {
      "text/plain": [
       "(3, 8)"
      ]
     },
     "execution_count": 11,
     "metadata": {},
     "output_type": "execute_result"
    }
   ],
   "source": [
    "b.shape"
   ]
  },
  {
   "cell_type": "code",
   "execution_count": null,
   "id": "e3be0d21",
   "metadata": {},
   "outputs": [],
   "source": []
  }
 ],
 "metadata": {
  "kernelspec": {
   "display_name": "Python 3 (ipykernel)",
   "language": "python",
   "name": "python3"
  },
  "language_info": {
   "codemirror_mode": {
    "name": "ipython",
    "version": 3
   },
   "file_extension": ".py",
   "mimetype": "text/x-python",
   "name": "python",
   "nbconvert_exporter": "python",
   "pygments_lexer": "ipython3",
   "version": "3.9.13"
  }
 },
 "nbformat": 4,
 "nbformat_minor": 5
}
